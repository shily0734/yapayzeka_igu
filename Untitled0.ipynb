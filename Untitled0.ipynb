{
  "nbformat": 4,
  "nbformat_minor": 0,
  "metadata": {
    "colab": {
      "provenance": []
    },
    "kernelspec": {
      "name": "python3",
      "display_name": "Python 3"
    },
    "language_info": {
      "name": "python"
    }
  },
  "cells": [
    {
      "cell_type": "code",
      "execution_count": 6,
      "metadata": {
        "colab": {
          "base_uri": "https://localhost:8080/"
        },
        "id": "T-FW_S_LEDb5",
        "outputId": "0367a0ae-033a-43cd-c4e0-acb71676d0ac"
      },
      "outputs": [
        {
          "output_type": "stream",
          "name": "stdout",
          "text": [
            "Merhaba, İGÜ - YAPAY ZEKA\n"
          ]
        }
      ],
      "source": [
        "print(\"Merhaba, İGÜ - YAPAY ZEKA\") # print ekrana çıktı veren bir koddur.\n",
        "\n"
      ]
    },
    {
      "cell_type": "code",
      "source": [
        "import sys # import python programlama dilinde yazılıma kütüphane eklemeye yarayan bir kod blogudur.\n",
        "  print(sys.version)"
      ],
      "metadata": {
        "id": "lHAP7CrqKeSt"
      },
      "execution_count": null,
      "outputs": []
    },
    {
      "cell_type": "code",
      "source": [
        "from google.colab import drive # google colab - drive bağlantısı\n",
        "  drive.mount('/content/drive')"
      ],
      "metadata": {
        "id": "7ezlsJXPKgUL"
      },
      "execution_count": null,
      "outputs": []
    },
    {
      "cell_type": "code",
      "source": [
        "!pwd"
      ],
      "metadata": {
        "id": "sayfBnJaKjU7"
      },
      "execution_count": null,
      "outputs": []
    }
  ]
}